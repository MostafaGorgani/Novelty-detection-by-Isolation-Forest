{
 "cells": [
  {
   "cell_type": "markdown",
   "id": "bc09dc2d",
   "metadata": {},
   "source": [
    "# Novelty detection for credit card customers using Isolation Forest"
   ]
  },
  {
   "cell_type": "markdown",
   "id": "6829fbf8",
   "metadata": {},
   "source": [
    "In this project I wrote a code for **anomaly detection** in a credit card dataset from Kaggle.com. The dataset consisted of anonymized credit card transactions labeled as fraudulent or genuine.  \n",
    "I used the **novelty detection method**, where the training set only had examples with class=0, to identify unusual patterns that do not conform to expected behavior. To implement this, I used the **Isolation Forest model**, which is a type of unsupervised machine learning algorithm that is used for anomaly detection.  \n",
    "Finally, I used **Grid search** to tune the parameters, which allowed me to find the best combination of hyperparameters for the model.  \n",
    "Anomaly detection is important in many applications, including detecting fraud in bank transactions, catching defects in manufacturing products, or even detecting network intrusions. In the context of credit card fraud detection, fraudulent transactions are rare compared to authentic transactions, so identifying these anomalies can be challenging. The approach I used, which involves detecting anomalies in a set of only negative examples, can be effective in identifying fraudulent transactions.  \n",
    "Data address:\n",
    "https://www.kaggle.com/datasets/whenamancodes/fraud-detection?select=creditcard.csv"
   ]
  },
  {
   "cell_type": "markdown",
   "id": "32d38d8a",
   "metadata": {},
   "source": [
    "# 1-Import necessary libraries"
   ]
  },
  {
   "cell_type": "code",
   "execution_count": 1,
   "id": "ab45539f",
   "metadata": {},
   "outputs": [],
   "source": [
    "import pandas as pd\n",
    "import numpy as np\n",
    "import matplotlib.pyplot as plt\n",
    "import seaborn as sns\n",
    "import random\n",
    "import warnings\n",
    "warnings.filterwarnings(\"ignore\")\n",
    "from sklearn.preprocessing import StandardScaler\n",
    "from sklearn.ensemble import IsolationForest\n",
    "from sklearn.model_selection import train_test_split, GridSearchCV\n",
    "from sklearn.metrics import confusion_matrix, classification_report, f1_score"
   ]
  },
  {
   "cell_type": "markdown",
   "id": "49c21b03",
   "metadata": {},
   "source": [
    "# 2-Load the dataset"
   ]
  },
  {
   "cell_type": "code",
   "execution_count": 2,
   "id": "f3f6739c",
   "metadata": {},
   "outputs": [],
   "source": [
    "data_creditcard=pd.read_csv ('creditcard.csv')"
   ]
  },
  {
   "cell_type": "code",
   "execution_count": null,
   "id": "3b7e261b",
   "metadata": {},
   "outputs": [],
   "source": []
  }
 ],
 "metadata": {
  "kernelspec": {
   "display_name": "Python 3 (ipykernel)",
   "language": "python",
   "name": "python3"
  },
  "language_info": {
   "codemirror_mode": {
    "name": "ipython",
    "version": 3
   },
   "file_extension": ".py",
   "mimetype": "text/x-python",
   "name": "python",
   "nbconvert_exporter": "python",
   "pygments_lexer": "ipython3",
   "version": "3.9.13"
  }
 },
 "nbformat": 4,
 "nbformat_minor": 5
}
